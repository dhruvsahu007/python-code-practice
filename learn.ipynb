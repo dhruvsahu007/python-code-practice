{
 "cells": [
  {
   "cell_type": "code",
   "execution_count": 4,
   "id": "7d991b6c",
   "metadata": {},
   "outputs": [
    {
     "name": "stdout",
     "output_type": "stream",
     "text": [
      "My name is  Dhruv and im  22 years old\n"
     ]
    }
   ],
   "source": [
    "name = \"Dhruv\"\n",
    "age = 22\n",
    "\n",
    "print(\"My name is \", name,\"and im \",age,\"years old\")"
   ]
  },
  {
   "cell_type": "code",
   "execution_count": 6,
   "id": "2fe533a3",
   "metadata": {},
   "outputs": [
    {
     "name": "stdout",
     "output_type": "stream",
     "text": [
      "Your name is dhruv\n",
      "You are 22 years old\n",
      "In 5 years, you will be 27\n"
     ]
    }
   ],
   "source": [
    "name = input(\"Enter your name :\")\n",
    "age = int(input(\"Enter your age :\"))\n",
    "\n",
    "print(\"Your name is\", name)\n",
    "print(\"You are\", age, \"years old\")\n",
    "print(\"In 5 years, you will be\", age + 5)"
   ]
  },
  {
   "cell_type": "code",
   "execution_count": 8,
   "id": "357d7446",
   "metadata": {},
   "outputs": [
    {
     "name": "stdout",
     "output_type": "stream",
     "text": [
      "Number is Even\n"
     ]
    }
   ],
   "source": [
    "number =  int(input(\"Enter a Number\"))\n",
    "\n",
    "if number % 2 == 0:\n",
    "    print(\"Number is Even\")\n",
    "else:\n",
    "    print(\"Number is odd\")\n",
    "\n"
   ]
  },
  {
   "cell_type": "code",
   "execution_count": 12,
   "id": "3e28cbe1",
   "metadata": {},
   "outputs": [
    {
     "name": "stdout",
     "output_type": "stream",
     "text": [
      "Not Divisible by 3\n"
     ]
    }
   ],
   "source": [
    "number = int(input(\"Enter a number\"))\n",
    "\n",
    "if number %3 == 0:\n",
    "    print(\"Divisible by 3\")\n",
    "else:\n",
    "    print(\"Not Divisible by 3\")"
   ]
  },
  {
   "cell_type": "code",
   "execution_count": 13,
   "id": "b8bb3824",
   "metadata": {},
   "outputs": [
    {
     "name": "stdout",
     "output_type": "stream",
     "text": [
      "1\n",
      "2\n",
      "3\n",
      "4\n",
      "5\n",
      "6\n",
      "7\n",
      "8\n",
      "9\n",
      "10\n"
     ]
    }
   ],
   "source": [
    "for i in range (1,11):\n",
    "    print(i)"
   ]
  },
  {
   "cell_type": "code",
   "execution_count": 14,
   "id": "d2f1dbcd",
   "metadata": {},
   "outputs": [
    {
     "name": "stdout",
     "output_type": "stream",
     "text": [
      "Hello 0\n",
      "Hello 1\n",
      "Hello 2\n",
      "Hello 3\n",
      "Hello 4\n"
     ]
    }
   ],
   "source": [
    "for i in range (5):\n",
    "    print(\"Hello\" ,i)\n",
    "    "
   ]
  },
  {
   "cell_type": "code",
   "execution_count": 15,
   "id": "4308b72b",
   "metadata": {},
   "outputs": [
    {
     "name": "stdout",
     "output_type": "stream",
     "text": [
      "count is: 1\n",
      "count is: 2\n",
      "count is: 3\n",
      "count is: 4\n",
      "count is: 5\n"
     ]
    }
   ],
   "source": [
    "count = 1\n",
    "while count <= 5:\n",
    "    print(\"count is:\", count)\n",
    "    count = count + 1"
   ]
  },
  {
   "cell_type": "code",
   "execution_count": 23,
   "id": "4c524b11",
   "metadata": {},
   "outputs": [
    {
     "name": "stdout",
     "output_type": "stream",
     "text": [
      "All numbers from 1 to 20 :\n",
      "1\n",
      "2\n",
      "3\n",
      "4\n",
      "5\n",
      "6\n",
      "7\n",
      "8\n",
      "9\n",
      "10\n",
      "11\n",
      "12\n",
      "13\n",
      "14\n",
      "15\n",
      "16\n",
      "17\n",
      "18\n",
      "19\n",
      "Even numbers from 1 to 20\n",
      "0\n",
      "2\n",
      "4\n",
      "6\n",
      "8\n",
      "10\n",
      "12\n",
      "14\n",
      "16\n",
      "18\n"
     ]
    }
   ],
   "source": [
    "print(\"All numbers from 1 to 20 :\")\n",
    "for i in range (1,20):\n",
    "    print(i)\n",
    "\n",
    "print(\"Even numbers from 1 to 20\")\n",
    "for i in range (20):\n",
    "    if i %2 == 0:\n",
    "        print(i)"
   ]
  },
  {
   "cell_type": "code",
   "execution_count": 26,
   "id": "d58f9195",
   "metadata": {},
   "outputs": [
    {
     "name": "stdout",
     "output_type": "stream",
     "text": [
      "odd numbers between 1 and 20\n",
      "1\n",
      "3\n",
      "5\n",
      "7\n",
      "9\n",
      "11\n",
      "13\n",
      "15\n",
      "17\n",
      "19\n"
     ]
    }
   ],
   "source": [
    "print(\"odd numbers between 1 and 20\")\n",
    "for i in range (1,20):\n",
    "    if i % 2 !=0:\n",
    "        print(i)"
   ]
  },
  {
   "cell_type": "code",
   "execution_count": 27,
   "id": "89b84fa0",
   "metadata": {},
   "outputs": [
    {
     "name": "stdout",
     "output_type": "stream",
     "text": [
      "*\n",
      "**\n",
      "***\n",
      "****\n",
      "*****\n"
     ]
    }
   ],
   "source": [
    "for i in range(1,6):\n",
    "    print(\"*\" * i)"
   ]
  },
  {
   "cell_type": "code",
   "execution_count": 28,
   "id": "ce59be0b",
   "metadata": {},
   "outputs": [
    {
     "name": "stdout",
     "output_type": "stream",
     "text": [
      "1 \n",
      "1 2 \n",
      "1 2 3 \n",
      "1 2 3 4 \n",
      "1 2 3 4 5 \n"
     ]
    }
   ],
   "source": [
    "for i in range(1,6):\n",
    "    for j in range(1, i+1):\n",
    "        print(j, end=\" \")\n",
    "    print()"
   ]
  },
  {
   "cell_type": "code",
   "execution_count": null,
   "id": "f0fc85e2",
   "metadata": {},
   "outputs": [
    {
     "name": "stdout",
     "output_type": "stream",
     "text": [
      "*\n",
      "**\n",
      "***\n",
      "****\n",
      "*****\n"
     ]
    }
   ],
   "source": [
    "for i in range(1,6):\n",
    "    print(\"*\"*i)"
   ]
  },
  {
   "cell_type": "code",
   "execution_count": 36,
   "id": "46087c2f",
   "metadata": {},
   "outputs": [
    {
     "name": "stdout",
     "output_type": "stream",
     "text": [
      "1 \n",
      "2 2 \n",
      "3 3 3 \n",
      "4 4 4 4 \n",
      "5 5 5 5 5 \n"
     ]
    }
   ],
   "source": [
    "for i in range (1,6):\n",
    "    for j in range (1, i+1):\n",
    "        print(i,end=\" \")\n",
    "    print()"
   ]
  },
  {
   "cell_type": "code",
   "execution_count": 43,
   "id": "1dc20f2e",
   "metadata": {},
   "outputs": [
    {
     "name": "stdout",
     "output_type": "stream",
     "text": [
      "*\n",
      "**\n",
      "***\n",
      "****\n",
      "*****\n"
     ]
    }
   ],
   "source": [
    "for i in range (1,6):\n",
    "    print(\"*\"*i)\n",
    "    "
   ]
  },
  {
   "cell_type": "code",
   "execution_count": 48,
   "id": "75cc6423",
   "metadata": {},
   "outputs": [
    {
     "name": "stdout",
     "output_type": "stream",
     "text": [
      "p\n",
      "y\n",
      "t\n",
      "h\n",
      "o\n",
      "n\n",
      "length of word\n",
      "6\n"
     ]
    }
   ],
   "source": [
    "word= \"python\"\n",
    "for i in word:\n",
    "    print(i,)\n",
    "print(\"length of word\")\n",
    "print(len(word))"
   ]
  },
  {
   "cell_type": "code",
   "execution_count": 51,
   "id": "a5056b65",
   "metadata": {},
   "outputs": [
    {
     "name": "stdout",
     "output_type": "stream",
     "text": [
      "Enter the word: python\n",
      "length if word 6\n",
      "Uppercase of word: PYTHON\n",
      "reverse of word: nohtyp\n"
     ]
    }
   ],
   "source": [
    "word = input(\"Enter the word\")\n",
    "print(\"Enter the word:\",word)\n",
    "print(\"length if word\", len(word))\n",
    "print(\"Uppercase of word:\",word.upper())\n",
    "print(\"reverse of word:\",word[::-1])"
   ]
  },
  {
   "cell_type": "code",
   "execution_count": null,
   "id": "5c5d84f7",
   "metadata": {},
   "outputs": [
    {
     "name": "stdout",
     "output_type": "stream",
     "text": [
      "Not Palindrome\n"
     ]
    }
   ],
   "source": [
    "s= input(\"Enter a word:\")\n",
    "\n",
    "if s == s[::-1]:\n",
    "    print(\"Is Palindorme\")\n",
    "else:\n",
    "    print(\"Not Palindrome\")"
   ]
  },
  {
   "cell_type": "code",
   "execution_count": 56,
   "id": "64fdd22c",
   "metadata": {},
   "outputs": [
    {
     "name": "stdout",
     "output_type": "stream",
     "text": [
      "Vowel Count 1\n"
     ]
    }
   ],
   "source": [
    "s= input(\"Enter a Word\")\n",
    "vowels = set(\"aeiouAEIOU\")\n",
    "count=0\n",
    "for ch in s:\n",
    "    if ch in vowels:\n",
    "        count += 1\n",
    "print(\"Vowel Count\",count)"
   ]
  },
  {
   "cell_type": "code",
   "execution_count": 63,
   "id": "35590d59",
   "metadata": {},
   "outputs": [
    {
     "name": "stdout",
     "output_type": "stream",
     "text": [
      "112131\n"
     ]
    }
   ],
   "source": [
    "s = input(\"Enter a String:\").strip()\n",
    "\n",
    "if s ==\"\":\n",
    "    print(\"\")\n",
    "else:\n",
    "    result = \"\"\n",
    "    count = 1\n",
    "\n",
    "    for i in range(1, len(s)):\n",
    "        if s[i] == s[i-1]:\n",
    "            count +=1\n",
    "        else:\n",
    "            result += s[i-1] +str(count)\n",
    "            count =1\n",
    "    result += s[-1] + str(count)\n",
    "    print(result)\n",
    "    "
   ]
  },
  {
   "cell_type": "code",
   "execution_count": 1,
   "id": "26ff4f2a",
   "metadata": {},
   "outputs": [
    {
     "name": "stdout",
     "output_type": "stream",
     "text": [
      "3\n"
     ]
    }
   ],
   "source": [
    "def add(a,b):\n",
    "    return a+b\n",
    "print(add(1,2))\n"
   ]
  },
  {
   "cell_type": "code",
   "execution_count": 6,
   "id": "3d6ec1d8",
   "metadata": {},
   "outputs": [],
   "source": [
    "\n",
    "def solve(currentstate):\n",
    "    nxt = {\"Red\":\"Green\",\"Green\":\"Yellow\",\"Yellow\":\"Red\"}\n",
    "    return nxt[currentstate]\n",
    "\n"
   ]
  },
  {
   "cell_type": "code",
   "execution_count": 18,
   "id": "5ae2a1eb",
   "metadata": {},
   "outputs": [
    {
     "name": "stdout",
     "output_type": "stream",
     "text": [
      "Next State: Green\n"
     ]
    }
   ],
   "source": [
    "currentstate = input(\"Enter Current State\")\n",
    "\n",
    "def solve(currentstate):\n",
    "    nxt = {\"Red\":\"Green\",\"Green\":\"Yellow\",\"Yellow\":\"Red\"}\n",
    "    return nxt[currentstate]\n",
    "\n",
    "print(\"Next State:\",solve(currentstate))"
   ]
  },
  {
   "cell_type": "code",
   "execution_count": 17,
   "id": "a9cf747b",
   "metadata": {},
   "outputs": [
    {
     "name": "stdout",
     "output_type": "stream",
     "text": [
      "First number: 1\n",
      "last Number: 5\n",
      "[1, 2, 3, 4, 5, 6]\n",
      "[1, 100, 3, 4, 5, 6]\n"
     ]
    }
   ],
   "source": [
    "numbers = [1, 2, 3, 4, 5]\n",
    "print(\"First number:\",numbers[0])\n",
    "print(\"last Number:\",numbers[-1])\n",
    "numbers.append(6)\n",
    "print(numbers)\n",
    "numbers.remove(2)\n",
    "numbers.insert(1,100)\n",
    "print(numbers)"
   ]
  },
  {
   "cell_type": "code",
   "execution_count": 18,
   "id": "5d651080",
   "metadata": {},
   "outputs": [
    {
     "name": "stdout",
     "output_type": "stream",
     "text": [
      "Sum = 15\n"
     ]
    }
   ],
   "source": [
    "num = [1,2,3,4,5]\n",
    "total = 0\n",
    "for n in num:\n",
    "    total += n\n",
    "print(\"Sum =\",total)"
   ]
  },
  {
   "cell_type": "code",
   "execution_count": 21,
   "id": "3a3cc846",
   "metadata": {},
   "outputs": [
    {
     "name": "stdout",
     "output_type": "stream",
     "text": [
      "Largest = 12\n"
     ]
    }
   ],
   "source": [
    "num = [5, 12, 7, 3, 9]\n",
    "largest = num[0]\n",
    "\n",
    "for n in num:\n",
    "    if n>largest:\n",
    "        largest=n\n",
    "\n",
    "\n",
    "\n",
    "print(\"Largest =\", largest)"
   ]
  },
  {
   "cell_type": "code",
   "execution_count": 50,
   "id": "2b2767d7",
   "metadata": {},
   "outputs": [
    {
     "name": "stdout",
     "output_type": "stream",
     "text": [
      "Sum =  28\n",
      "Largest number: 9\n",
      "Even numbers in the list: [4, 2, 8]\n",
      "Odd numbers in the list: [9, 5]\n"
     ]
    }
   ],
   "source": [
    "numbers  = [4, 9, 2, 8, 5]\n",
    "s = 0\n",
    "for n in numbers:\n",
    "    s +=n\n",
    "print(\"Sum = \", s)\n",
    "\n",
    "largest = numbers[0]\n",
    "for n in numbers:\n",
    "    if n>largest:\n",
    "        largest= n\n",
    "print(\"Largest number:\",largest)\n",
    "\n",
    "even = []\n",
    "for n in numbers:\n",
    "    if n%2 == 0:\n",
    "        even.append(n)\n",
    "print(\"Even numbers in the list:\",even)\n",
    "\n",
    "\n",
    "odd = []\n",
    "for n in numbers:\n",
    "    if n%2 != 0:\n",
    "        odd.append(n)\n",
    "print(\"Odd numbers in the list:\",odd)\n",
    "\n"
   ]
  },
  {
   "cell_type": "code",
   "execution_count": 55,
   "id": "0cbc3924",
   "metadata": {},
   "outputs": [
    {
     "name": "stdout",
     "output_type": "stream",
     "text": [
      "Hello\n",
      "Hi\n",
      "Hello Dhruv\n",
      "Hello Polar\n"
     ]
    }
   ],
   "source": [
    "def greet():\n",
    "    print(\"Hello\")\n",
    "    print(\"Hi\")\n",
    "\n",
    "greet()\n",
    "\n",
    "def greetwithname(name):\n",
    "    print(\"Hello\", name)\n",
    "\n",
    "greetwithname(\"Dhruv\")\n",
    "greetwithname(\"Polar\")\n"
   ]
  },
  {
   "cell_type": "code",
   "execution_count": 57,
   "id": "f0e8b3e2",
   "metadata": {},
   "outputs": [
    {
     "name": "stdout",
     "output_type": "stream",
     "text": [
      "25\n"
     ]
    }
   ],
   "source": [
    "def square(x):\n",
    "    return x*x\n",
    "\n",
    "print(square(int(input(\"Enter the number to find square of:\"))))"
   ]
  },
  {
   "cell_type": "code",
   "execution_count": 60,
   "id": "ef855276",
   "metadata": {},
   "outputs": [
    {
     "name": "stdout",
     "output_type": "stream",
     "text": [
      "True\n"
     ]
    }
   ],
   "source": [
    "def is_even(n):\n",
    "    if n %2 ==0:\n",
    "        return True\n",
    "    else:\n",
    "        return False\n",
    "\n",
    "print(is_even(int(input(\"Enter the number to find even or not\"))))"
   ]
  },
  {
   "cell_type": "code",
   "execution_count": 78,
   "id": "58235fd9",
   "metadata": {},
   "outputs": [
    {
     "name": "stdout",
     "output_type": "stream",
     "text": [
      "11\n"
     ]
    }
   ],
   "source": [
    "def addition(a,b,c):\n",
    "    return a+b+c\n",
    "\n",
    "print(addition(3,5,3))"
   ]
  },
  {
   "cell_type": "code",
   "execution_count": 79,
   "id": "78b3e899",
   "metadata": {},
   "outputs": [
    {
     "name": "stdout",
     "output_type": "stream",
     "text": [
      "15\n"
     ]
    }
   ],
   "source": [
    "def addition(numbers):\n",
    "    return sum(numbers)\n",
    "\n",
    "print(addition([1,2,3,4,5]))"
   ]
  },
  {
   "cell_type": "code",
   "execution_count": 81,
   "id": "6fa5fc2b",
   "metadata": {},
   "outputs": [
    {
     "name": "stdout",
     "output_type": "stream",
     "text": [
      "20\n",
      "42\n"
     ]
    }
   ],
   "source": [
    "def mul(a,b):\n",
    "    return a*b\n",
    "\n",
    "print(mul(4,5))\n",
    "print(mul(7,6))"
   ]
  },
  {
   "cell_type": "code",
   "execution_count": 91,
   "id": "bdf32999",
   "metadata": {},
   "outputs": [
    {
     "name": "stdout",
     "output_type": "stream",
     "text": [
      "2\n"
     ]
    }
   ],
   "source": [
    "def max(a,b):\n",
    "    if a>b:\n",
    "        return a\n",
    "    elif b>a:\n",
    "        return b\n",
    "print(max(1,2))"
   ]
  },
  {
   "cell_type": "code",
   "execution_count": 93,
   "id": "3df8966b",
   "metadata": {},
   "outputs": [
    {
     "name": "stdout",
     "output_type": "stream",
     "text": [
      "3\n"
     ]
    }
   ],
   "source": [
    "def max_of_three(a,b,c):\n",
    "    if a>b and a>c:\n",
    "        return a\n",
    "    elif b>a and b>c:\n",
    "        return b\n",
    "    else:\n",
    "        return c\n",
    "\n",
    "print(max_of_three(1,2,3))"
   ]
  },
  {
   "cell_type": "code",
   "execution_count": 102,
   "id": "26af4553",
   "metadata": {},
   "outputs": [
    {
     "name": "stdout",
     "output_type": "stream",
     "text": [
      "Minimum of three numbers: 1\n"
     ]
    }
   ],
   "source": [
    "def min_of_three(a,b,c):\n",
    "    if a<=b and a<=c:\n",
    "        return a\n",
    "    elif b<=a and b<=c:\n",
    "        return b\n",
    "    else:\n",
    "        return c\n",
    "print(\"Minimum of three numbers:\",min_of_three(1,2,3))"
   ]
  },
  {
   "cell_type": "code",
   "execution_count": 107,
   "id": "68379b38",
   "metadata": {},
   "outputs": [
    {
     "name": "stdout",
     "output_type": "stream",
     "text": [
      "Minimum of these 3 numbers are: 1\n"
     ]
    }
   ],
   "source": [
    "def min_of_three(a,b,c):\n",
    "    return min(a,b,c)\n",
    "\n",
    "a= int(input(\"Enter 1st Number:\"))\n",
    "b= int(input(\"Enter 2nd Number:\"))\n",
    "c= int(input(\"Enter 3rd Number:\"))\n",
    "\n",
    "print(\"Minimum of these 3 numbers are:\",min_of_three(a,b,c))"
   ]
  },
  {
   "cell_type": "code",
   "execution_count": 112,
   "id": "c88890fc",
   "metadata": {},
   "outputs": [
    {
     "name": "stdout",
     "output_type": "stream",
     "text": [
      "minimum of 3 numbers: 1\n"
     ]
    }
   ],
   "source": [
    "def min_of_three(a,b,c):\n",
    "    return min(a,b,c)\n",
    "\n",
    "a,b,c = map(int,(input(\"Enter 3 numbers seperated by space:\").split()))\n",
    "\n",
    "print(\"minimum of 3 numbers:\",min_of_three(a,b,c))"
   ]
  },
  {
   "cell_type": "code",
   "execution_count": null,
   "id": "d5488c16",
   "metadata": {},
   "outputs": [
    {
     "name": "stdout",
     "output_type": "stream",
     "text": [
      "22 Python Dhruv\n"
     ]
    }
   ],
   "source": [
    "student = {\"Name\":\"Dhruv\",\"Age\":22,\"course\":\"Python\"}\n",
    "\n",
    "\n",
    "print(student[\"Age\"],student[\"course\"],student[\"Name\"])"
   ]
  },
  {
   "cell_type": "code",
   "execution_count": 116,
   "id": "43e8ea22",
   "metadata": {},
   "outputs": [
    {
     "name": "stdout",
     "output_type": "stream",
     "text": [
      "{'a': 2, 'b': 3, 'c': 1}\n"
     ]
    }
   ],
   "source": [
    "word = \"aabbbc\"\n",
    "freq={}\n",
    "\n",
    "for ch in word:\n",
    "    if ch in freq:\n",
    "        freq[ch] +=1\n",
    "    else:\n",
    "        freq[ch] =1\n",
    "\n",
    "print(freq)"
   ]
  },
  {
   "cell_type": "code",
   "execution_count": 141,
   "id": "78b07af0",
   "metadata": {},
   "outputs": [
    {
     "name": "stdout",
     "output_type": "stream",
     "text": [
      "Bengaluru\n",
      "Name : Dhruv\n",
      "Age : 22\n",
      "City : Bengaluru\n",
      "Course : Python\n",
      "hobby : Riding\n"
     ]
    }
   ],
   "source": [
    "student = {\"Name\":\"Dhruv\",\"Age\":22,\"City\":\"Bengaluru\"}\n",
    "\n",
    "student[\"Course\"]=\"Python\"\n",
    "student[\"hobby\"]=\"Riding\"\n",
    "\n",
    "print(student[\"City\"])\n",
    "\n",
    "for key,value in student.items():\n",
    "        print(key,\":\",value)\n"
   ]
  },
  {
   "cell_type": "code",
   "execution_count": 143,
   "id": "a6885c40",
   "metadata": {},
   "outputs": [
    {
     "name": "stdout",
     "output_type": "stream",
     "text": [
      "Math : 85\n",
      "Science : 90\n",
      "English : 78\n",
      "History : 80\n"
     ]
    }
   ],
   "source": [
    "marks = {\"Math\":85,\"Science\":90,\"English\":78}\n",
    "\n",
    "marks[\"History\"]=80\n",
    "\n",
    "for key, value in marks.items():\n",
    "    print(key,\":\",value)"
   ]
  },
  {
   "cell_type": "code",
   "execution_count": 146,
   "id": "aeab26dd",
   "metadata": {},
   "outputs": [
    {
     "name": "stdout",
     "output_type": "stream",
     "text": [
      "higghest scoring subject Science\n"
     ]
    }
   ],
   "source": [
    "marks = {\"Math\":85,\"Science\":90,\"English\":78,\"History\":80}\n",
    "\n",
    "def highest_subject(marks):\n",
    "    best_subject = list(marks.keys())[0]\n",
    "    best_score = marks[best_subject]\n",
    "\n",
    "    for subject,score in marks.items():\n",
    "        if score > best_score:\n",
    "            best_subject = subject\n",
    "            best_score = score\n",
    "    \n",
    "    return best_subject\n",
    "\n",
    "print(\"higghest scoring subject\", highest_subject(marks))\n",
    "\n",
    "\n",
    "\n"
   ]
  },
  {
   "cell_type": "code",
   "execution_count": 19,
   "id": "0c330ac5",
   "metadata": {},
   "outputs": [
    {
     "name": "stdout",
     "output_type": "stream",
     "text": [
      "highest scoring subject Science with 90\n",
      "highest scoring subject English with 78\n"
     ]
    }
   ],
   "source": [
    "marks = {\"Math\":85,\"Science\":90,\"English\":78,\"History\":80}\n",
    "\n",
    "def highest_lowest_subject(marks):\n",
    "    highest= max(marks,key=marks.get)\n",
    "    lowest = min(marks,key= marks.get)\n",
    "    return highest,lowest\n",
    "\n",
    "high,low=highest_lowest_subject(marks)\n",
    "\n",
    "print(\"highest scoring subject\",high,\"with\",marks[high])\n",
    "print(\"highest scoring subject\",low,\"with\",marks[low])"
   ]
  },
  {
   "cell_type": "code",
   "execution_count": null,
   "id": "b5ae2528",
   "metadata": {},
   "outputs": [],
   "source": [
    "num"
   ]
  }
 ],
 "metadata": {
  "kernelspec": {
   "display_name": "Python 3",
   "language": "python",
   "name": "python3"
  },
  "language_info": {
   "codemirror_mode": {
    "name": "ipython",
    "version": 3
   },
   "file_extension": ".py",
   "mimetype": "text/x-python",
   "name": "python",
   "nbconvert_exporter": "python",
   "pygments_lexer": "ipython3",
   "version": "3.13.5"
  }
 },
 "nbformat": 4,
 "nbformat_minor": 5
}
